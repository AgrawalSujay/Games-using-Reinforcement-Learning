{
  "nbformat": 4,
  "nbformat_minor": 0,
  "metadata": {
    "colab": {
      "provenance": []
    },
    "kernelspec": {
      "name": "python3",
      "display_name": "Python 3"
    },
    "language_info": {
      "name": "python"
    }
  },
  "cells": [
    {
      "cell_type": "code",
      "execution_count": 7,
      "metadata": {
        "id": "6R0dZOe0x2_J"
      },
      "outputs": [],
      "source": [
        "import gym\n",
        "import torch\n",
        "import torch.nn as nn\n",
        "import torch.optim as optim\n",
        "import random\n",
        "from collections import deque\n",
        "import numpy as np"
      ]
    },
    {
      "cell_type": "code",
      "source": [
        "# Compatibility fix for newer NumPy versions\n",
        "if not hasattr(np, 'bool8'):\n",
        "    np.bool8 = np.bool_"
      ],
      "metadata": {
        "id": "nHXOQaQ-yBoS"
      },
      "execution_count": 8,
      "outputs": []
    },
    {
      "cell_type": "code",
      "source": [
        "# Hyperparameters\n",
        "GAMMA = 0.99\n",
        "LR = 1e-3\n",
        "EPS_START = 1.0\n",
        "EPS_END = 0.05\n",
        "EPS_DECAY = 3000\n",
        "BATCH_SIZE = 64\n",
        "MEM_SIZE = 10000\n",
        "TARGET_UPDATE = 100\n",
        "FRAME_LIMIT = 5000"
      ],
      "metadata": {
        "id": "9HUlhLNL0tOk"
      },
      "execution_count": 9,
      "outputs": []
    },
    {
      "cell_type": "code",
      "source": [
        "device = torch.device(\"cuda\" if torch.cuda.is_available() else \"cpu\")\n",
        "\n",
        "# --- Dueling DQN Network ---\n",
        "class DuelingDQN(nn.Module):\n",
        "    def __init__(self, input_dim, output_dim):\n",
        "        super().__init__()\n",
        "        self.feature = nn.Sequential(\n",
        "            nn.Linear(input_dim, 128), nn.ReLU()\n",
        "        )\n",
        "        self.value = nn.Sequential(\n",
        "            nn.Linear(128, 128), nn.ReLU(), nn.Linear(128, 1)\n",
        "        )\n",
        "        self.advantage = nn.Sequential(\n",
        "            nn.Linear(128, 128), nn.ReLU(), nn.Linear(128, output_dim)\n",
        "        )\n",
        "\n",
        "    def forward(self, x):\n",
        "        x = self.feature(x)\n",
        "        value = self.value(x)\n",
        "        advantage = self.advantage(x)\n",
        "        return value + advantage - advantage.mean(dim=1, keepdim=True)"
      ],
      "metadata": {
        "id": "wuypnkJ20vSO"
      },
      "execution_count": 10,
      "outputs": []
    },
    {
      "cell_type": "code",
      "source": [
        "# --- Replay Buffer ---\n",
        "class ReplayBuffer:\n",
        "    def __init__(self, capacity):\n",
        "        self.buffer = deque(maxlen=capacity)\n",
        "\n",
        "    def push(self, transition):\n",
        "        self.buffer.append(transition)\n",
        "\n",
        "    def sample(self, batch_size):\n",
        "        return random.sample(self.buffer, batch_size)\n",
        "\n",
        "    def __len__(self):\n",
        "        return len(self.buffer)"
      ],
      "metadata": {
        "id": "19hKvDnd0ygR"
      },
      "execution_count": 11,
      "outputs": []
    },
    {
      "cell_type": "code",
      "source": [
        "def select_action(state, epsilon, model, action_space):\n",
        "    if random.random() < epsilon:\n",
        "        return action_space.sample()\n",
        "    state = torch.FloatTensor(state).unsqueeze(0).to(device)\n",
        "    with torch.no_grad():\n",
        "        q_values = model(state)\n",
        "    return q_values.argmax().item()"
      ],
      "metadata": {
        "id": "rCTish_800Wy"
      },
      "execution_count": 12,
      "outputs": []
    },
    {
      "cell_type": "code",
      "source": [
        "env = gym.make(\"CartPole-v1\")\n",
        "state_dim = env.observation_space.shape[0]\n",
        "action_dim = env.action_space.n\n",
        "\n",
        "policy_net = DuelingDQN(state_dim, action_dim).to(device)\n",
        "target_net = DuelingDQN(state_dim, action_dim).to(device)\n",
        "target_net.load_state_dict(policy_net.state_dict())\n",
        "target_net.eval()\n",
        "\n",
        "optimizer = optim.Adam(policy_net.parameters(), lr=LR)\n",
        "memory = ReplayBuffer(MEM_SIZE)\n",
        "\n",
        "frame_count = 0\n",
        "episode = 0\n",
        "epsilon = EPS_START\n",
        "\n",
        "while frame_count < FRAME_LIMIT:\n",
        "    state, _ = env.reset()  # Correct unpacking\n",
        "    done = False\n",
        "    episode_reward = 0\n",
        "\n",
        "    while not done and frame_count < FRAME_LIMIT:\n",
        "        epsilon = max(EPS_END, EPS_START - frame_count / EPS_DECAY)\n",
        "        action = select_action(state, epsilon, policy_net, env.action_space)\n",
        "        next_state, reward, terminated, truncated, _ = env.step(action)\n",
        "        done = terminated or truncated\n",
        "\n",
        "        memory.push((state, action, reward, next_state, done))\n",
        "        state = next_state\n",
        "        frame_count += 1\n",
        "        episode_reward += reward\n",
        "\n",
        "        # Learn\n",
        "        if len(memory) >= BATCH_SIZE:\n",
        "            batch = memory.sample(BATCH_SIZE)\n",
        "            states, actions, rewards, next_states, dones = zip(*batch)\n",
        "\n",
        "            states = torch.tensor(np.array(states), dtype=torch.float32).to(device)\n",
        "            actions = torch.tensor(actions, dtype=torch.int64).unsqueeze(1).to(device)\n",
        "            rewards = torch.tensor(rewards, dtype=torch.float32).unsqueeze(1).to(device)\n",
        "            next_states = torch.tensor(np.array(next_states), dtype=torch.float32).to(device)\n",
        "            dones = torch.tensor(dones, dtype=torch.float32).unsqueeze(1).to(device)\n",
        "\n",
        "            q_values = policy_net(states).gather(1, actions)\n",
        "\n",
        "            next_actions = policy_net(next_states).argmax(1, keepdim=True)\n",
        "            next_q_values = target_net(next_states).gather(1, next_actions)\n",
        "            target_q_values = rewards + GAMMA * next_q_values * (1 - dones)\n",
        "\n",
        "            loss = nn.MSELoss()(q_values, target_q_values.detach())\n",
        "            optimizer.zero_grad()\n",
        "            loss.backward()\n",
        "            optimizer.step()\n",
        "\n",
        "        # Update target network\n",
        "        if frame_count % TARGET_UPDATE == 0:\n",
        "            target_net.load_state_dict(policy_net.state_dict())\n",
        "\n",
        "    episode += 1\n",
        "    print(f\"Episode {episode}, Reward: {episode_reward}, Epsilon: {epsilon:.3f}, Frame: {frame_count}\")\n",
        "\n",
        "env.close()"
      ],
      "metadata": {
        "colab": {
          "base_uri": "https://localhost:8080/"
        },
        "id": "eeIIIQ3m04Sl",
        "outputId": "c7ce64ed-f5a3-48da-b729-4e1b679d957d"
      },
      "execution_count": 13,
      "outputs": [
        {
          "output_type": "stream",
          "name": "stdout",
          "text": [
            "Episode 1, Reward: 21.0, Epsilon: 0.993, Frame: 21\n",
            "Episode 2, Reward: 54.0, Epsilon: 0.975, Frame: 75\n",
            "Episode 3, Reward: 11.0, Epsilon: 0.972, Frame: 86\n",
            "Episode 4, Reward: 42.0, Epsilon: 0.958, Frame: 128\n",
            "Episode 5, Reward: 10.0, Epsilon: 0.954, Frame: 138\n",
            "Episode 6, Reward: 14.0, Epsilon: 0.950, Frame: 152\n",
            "Episode 7, Reward: 25.0, Epsilon: 0.941, Frame: 177\n",
            "Episode 8, Reward: 40.0, Epsilon: 0.928, Frame: 217\n",
            "Episode 9, Reward: 21.0, Epsilon: 0.921, Frame: 238\n",
            "Episode 10, Reward: 22.0, Epsilon: 0.914, Frame: 260\n",
            "Episode 11, Reward: 16.0, Epsilon: 0.908, Frame: 276\n",
            "Episode 12, Reward: 12.0, Epsilon: 0.904, Frame: 288\n",
            "Episode 13, Reward: 19.0, Epsilon: 0.898, Frame: 307\n",
            "Episode 14, Reward: 37.0, Epsilon: 0.886, Frame: 344\n",
            "Episode 15, Reward: 73.0, Epsilon: 0.861, Frame: 417\n",
            "Episode 16, Reward: 11.0, Epsilon: 0.858, Frame: 428\n",
            "Episode 17, Reward: 22.0, Epsilon: 0.850, Frame: 450\n",
            "Episode 18, Reward: 38.0, Epsilon: 0.838, Frame: 488\n",
            "Episode 19, Reward: 15.0, Epsilon: 0.833, Frame: 503\n",
            "Episode 20, Reward: 24.0, Epsilon: 0.825, Frame: 527\n",
            "Episode 21, Reward: 45.0, Epsilon: 0.810, Frame: 572\n",
            "Episode 22, Reward: 40.0, Epsilon: 0.796, Frame: 612\n",
            "Episode 23, Reward: 82.0, Epsilon: 0.769, Frame: 694\n",
            "Episode 24, Reward: 23.0, Epsilon: 0.761, Frame: 717\n",
            "Episode 25, Reward: 19.0, Epsilon: 0.755, Frame: 736\n",
            "Episode 26, Reward: 51.0, Epsilon: 0.738, Frame: 787\n",
            "Episode 27, Reward: 81.0, Epsilon: 0.711, Frame: 868\n",
            "Episode 28, Reward: 10.0, Epsilon: 0.708, Frame: 878\n",
            "Episode 29, Reward: 14.0, Epsilon: 0.703, Frame: 892\n",
            "Episode 30, Reward: 62.0, Epsilon: 0.682, Frame: 954\n",
            "Episode 31, Reward: 25.0, Epsilon: 0.674, Frame: 979\n",
            "Episode 32, Reward: 24.0, Epsilon: 0.666, Frame: 1003\n",
            "Episode 33, Reward: 27.0, Epsilon: 0.657, Frame: 1030\n",
            "Episode 34, Reward: 156.0, Epsilon: 0.605, Frame: 1186\n",
            "Episode 35, Reward: 82.0, Epsilon: 0.578, Frame: 1268\n",
            "Episode 36, Reward: 40.0, Epsilon: 0.564, Frame: 1308\n",
            "Episode 37, Reward: 62.0, Epsilon: 0.544, Frame: 1370\n",
            "Episode 38, Reward: 26.0, Epsilon: 0.535, Frame: 1396\n",
            "Episode 39, Reward: 205.0, Epsilon: 0.467, Frame: 1601\n",
            "Episode 40, Reward: 183.0, Epsilon: 0.406, Frame: 1784\n",
            "Episode 41, Reward: 133.0, Epsilon: 0.361, Frame: 1917\n",
            "Episode 42, Reward: 230.0, Epsilon: 0.285, Frame: 2147\n",
            "Episode 43, Reward: 175.0, Epsilon: 0.226, Frame: 2322\n",
            "Episode 44, Reward: 142.0, Epsilon: 0.179, Frame: 2464\n",
            "Episode 45, Reward: 115.0, Epsilon: 0.141, Frame: 2579\n",
            "Episode 46, Reward: 172.0, Epsilon: 0.083, Frame: 2751\n",
            "Episode 47, Reward: 207.0, Epsilon: 0.050, Frame: 2958\n",
            "Episode 48, Reward: 291.0, Epsilon: 0.050, Frame: 3249\n",
            "Episode 49, Reward: 255.0, Epsilon: 0.050, Frame: 3504\n",
            "Episode 50, Reward: 132.0, Epsilon: 0.050, Frame: 3636\n",
            "Episode 51, Reward: 193.0, Epsilon: 0.050, Frame: 3829\n",
            "Episode 52, Reward: 182.0, Epsilon: 0.050, Frame: 4011\n",
            "Episode 53, Reward: 144.0, Epsilon: 0.050, Frame: 4155\n",
            "Episode 54, Reward: 184.0, Epsilon: 0.050, Frame: 4339\n",
            "Episode 55, Reward: 217.0, Epsilon: 0.050, Frame: 4556\n",
            "Episode 56, Reward: 177.0, Epsilon: 0.050, Frame: 4733\n",
            "Episode 57, Reward: 155.0, Epsilon: 0.050, Frame: 4888\n",
            "Episode 58, Reward: 112.0, Epsilon: 0.050, Frame: 5000\n"
          ]
        }
      ]
    },
    {
      "cell_type": "code",
      "source": [],
      "metadata": {
        "id": "guYnZl240-au"
      },
      "execution_count": null,
      "outputs": []
    }
  ]
}